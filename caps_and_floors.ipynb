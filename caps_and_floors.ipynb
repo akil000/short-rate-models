{
 "cells": [
  {
   "cell_type": "markdown",
   "metadata": {},
   "source": [
    "## IRS"
   ]
  },
  {
   "cell_type": "markdown",
   "metadata": {},
   "source": [
    "   - An IRS is a financial derivative contract in which two parties exchange cash flows of interest payments.\n",
    "   - Typically, one party pays a fixed rate (fixed leg), while the other party pays a floating rate (floating leg).\n",
    "   - The value of an IRS can be determined using the present value of the fixed and floating legs."
   ]
  },
  {
   "cell_type": "markdown",
   "metadata": {},
   "source": [
    "## Caplets and Floorlets"
   ]
  },
  {
   "cell_type": "markdown",
   "metadata": {},
   "source": [
    "   - Caplets and floorlets are components of interest rate caps and floors, respectively. A caplet is a financial derivative that pays off when the interest rate exceeds a predetermined strike rate, whereas a floorlet pays off when the interest rate falls below a predetermined strike rate.\n",
    "   - The formulas for caplets and floorlets involve several variables:\n",
    "     - $ P(t, T_{i-1}) $: Discount factor from time $ t $ to $ T_{i-1} $\n",
    "     - $ K $: Strike rate\n",
    "     - $ Z_{T_i, T_{i-1}}^t $: Forward rate observed at time $ t $ for the period from $ T_{i-1} $ to $ T_i $\n",
    "     - $ v(t) $: Volatility term\n",
    "     - $ \\Phi $: Cumulative distribution function (CDF) of the standard normal distribution\n",
    "     - $ d_1 $ and $ d_2 $ are auxiliary variables defined as:\n",
    "       \n",
    "       $d_1(K, F, v) = \\frac{\\log(F/K) + \\frac{v^2}{2}}{v}$\n",
    "       \n",
    "       \n",
    "       $d_2(K, F, v) = d_1(K, F, v) - v$"
   ]
  },
  {
   "cell_type": "markdown",
   "metadata": {},
   "source": [
    "$Caplet_i(t) = \\frac{P(t,T_{i-1})}{K^{*}}\\left[K\\Phi\\left(-d_2(K,Z_{T_i,T_{i-1}}^t ,v(t))\\right)-Z_{T_i,T_{i-1}}^t  \\Phi \\left(-d_1(K, Z_{T_i,T_{i-1}}^t, v(t))\\right)\\right]$\n",
    "\n",
    "$Floorlet_i(t) = \\frac{P(t,T_{i-1})}{K^{*}}\\left[-K\\Phi\\left(-d_2(K,Z_{T_i,T_{i-1}}^t ,v(t))\\right)+Z_{T_i,T_{i-1}}^t  \\Phi \\left(-d_1(K, Z_{T_i,T_{i-1}}^t, v(t))\\right)\\right]$\n",
    "\n",
    "where $Z_{S,T}^t=\\frac{P(t,S)}{P(t,T)}$, $d_1(K,F,v)=\\frac{(log(\\frac{F}{K})+\\frac{v^2}2)}{v}$, $d_2(K,F,v)=d_1(K,F,v)-v$"
   ]
  },
  {
   "cell_type": "markdown",
   "metadata": {},
   "source": [
    "## Implementation Steps"
   ]
  },
  {
   "cell_type": "markdown",
   "metadata": {},
   "source": [
    "   - **Step 1: Calculate the discount factor \\( P(t, T_{i-1}) \\) using the Hull-White model.**\n",
    "   - **Step 2: Calculate the forward rate \\( Z_{T_i, T_{i-1}}^t \\).**\n",
    "   - **Step 3: Determine the volatility term \\( v(t) \\).**\n",
    "   - **Step 4: Compute the \\( d_1 \\) and \\( d_2 \\) variables.**\n",
    "   - **Step 5: Calculate the caplet and floorlet prices using the provided formulas.**"
   ]
  },
  {
   "cell_type": "code",
   "execution_count": 11,
   "metadata": {},
   "outputs": [],
   "source": [
    "from scipy.stats import norm\n",
    "import numpy as np"
   ]
  },
  {
   "cell_type": "code",
   "execution_count": 12,
   "metadata": {},
   "outputs": [],
   "source": [
    "def discount_factor(t, T, r, alpha, sigma):\n",
    "    B = (1 - np.exp(-alpha * (T - t))) / alpha\n",
    "    A = np.exp((B - (T - t)) * (theta - 0.5 * sigma ** 2 / alpha ** 2) - (sigma ** 2 * B ** 2) / (4 * alpha))\n",
    "    return A * np.exp(-B * r)"
   ]
  },
  {
   "cell_type": "code",
   "execution_count": 13,
   "metadata": {},
   "outputs": [],
   "source": [
    "def forward_rate(P_t_T1, P_t_T2, T1, T2):\n",
    "    return (P_t_T1 / P_t_T2 - 1) / (T2 - T1)"
   ]
  },
  {
   "cell_type": "code",
   "execution_count": 14,
   "metadata": {},
   "outputs": [],
   "source": [
    "def volatility(t, T1, T2, sigma):\n",
    "    return sigma * np.sqrt(T2 - T1)"
   ]
  },
  {
   "cell_type": "code",
   "execution_count": 15,
   "metadata": {},
   "outputs": [],
   "source": [
    "def d1_d2(K, F, v):\n",
    "    d1 = (np.log(F / K) + 0.5 * v ** 2) / v\n",
    "    d2 = d1 - v\n",
    "    return d1, d2"
   ]
  },
  {
   "cell_type": "code",
   "execution_count": 16,
   "metadata": {},
   "outputs": [],
   "source": [
    "def K_star(alpha_i, K):\n",
    "    return 1 / (1 + alpha_i * K)"
   ]
  },
  {
   "cell_type": "code",
   "execution_count": 17,
   "metadata": {},
   "outputs": [],
   "source": [
    "def caplet_price(P_t_T1, K, Z_Ti_T1, v, alpha_i):\n",
    "    K_star_val = K_star(alpha_i, K)\n",
    "    d1, d2 = d1_d2(K, Z_Ti_T1, v)\n",
    "    caplet = P_t_T1 / K_star_val * (K * norm.cdf(-d2) - Z_Ti_T1 * norm.cdf(-d1))\n",
    "    return caplet"
   ]
  },
  {
   "cell_type": "code",
   "execution_count": 18,
   "metadata": {},
   "outputs": [],
   "source": [
    "def floorlet_price(P_t_T1, K, Z_Ti_T1, v, alpha_i):\n",
    "    K_star_val = K_star(alpha_i, K)\n",
    "    d1, d2 = d1_d2(K, Z_Ti_T1, v)\n",
    "    floorlet = P_t_T1 / K_star_val * (-K * norm.cdf(-d2) + Z_Ti_T1 * norm.cdf(-d1))\n",
    "    return floorlet"
   ]
  },
  {
   "cell_type": "markdown",
   "metadata": {},
   "source": [
    "### Example"
   ]
  },
  {
   "cell_type": "code",
   "execution_count": 19,
   "metadata": {},
   "outputs": [],
   "source": [
    "# Example parameters\n",
    "t = 0\n",
    "T1 = 1\n",
    "T2 = 2\n",
    "r = 0.03\n",
    "alpha = 0.1\n",
    "sigma = 0.02\n",
    "theta = 0.03\n",
    "K = 0.025\n",
    "alpha_i = 0.5  # Example day count fraction for the period"
   ]
  },
  {
   "cell_type": "code",
   "execution_count": 20,
   "metadata": {},
   "outputs": [],
   "source": [
    "# Calculate discount factors\n",
    "P_t_T1 = discount_factor(t, T1, r, alpha, sigma)\n",
    "P_t_T2 = discount_factor(t, T2, r, alpha, sigma)"
   ]
  },
  {
   "cell_type": "code",
   "execution_count": 21,
   "metadata": {},
   "outputs": [],
   "source": [
    "# Calculate forward rate\n",
    "Z_Ti_T1 = forward_rate(P_t_T1, P_t_T2, T1, T2)"
   ]
  },
  {
   "cell_type": "code",
   "execution_count": 22,
   "metadata": {},
   "outputs": [],
   "source": [
    "# Calculate volatility\n",
    "v = volatility(t, T1, T2, sigma)"
   ]
  },
  {
   "cell_type": "code",
   "execution_count": 23,
   "metadata": {},
   "outputs": [],
   "source": [
    "# Calculate caplet and floorlet prices\n",
    "caplet = caplet_price(P_t_T1, K, Z_Ti_T1, v, alpha_i)\n",
    "floorlet = floorlet_price(P_t_T1, K, Z_Ti_T1, v, alpha_i)"
   ]
  },
  {
   "cell_type": "code",
   "execution_count": 24,
   "metadata": {},
   "outputs": [
    {
     "data": {
      "text/plain": [
       "(1.1307942868529538e-24, -1.1307942868529538e-24)"
      ]
     },
     "execution_count": 24,
     "metadata": {},
     "output_type": "execute_result"
    }
   ],
   "source": [
    "caplet, floorlet"
   ]
  },
  {
   "cell_type": "markdown",
   "metadata": {},
   "source": [
    "Explanation\n",
    " 1. **Discount Factor**: Calculated using a simplified version of the Hull-White model.\n",
    " 2. **Forward Rate**: Derived from the ratio of discount factors.\n",
    " 3. **Volatility**: Simplified to be constant for demonstration purposes.\n",
    " 4. **d1 and d2**: Computed using the given formulas.\n",
    " 5. **K^{*}**: Defined as $\\frac1{1+ \\alpha K}$\n",
    " 6. **Caplet and Floorlet Prices**: Derived using the provided formulas and the normal CDF.\n",
    "\n",
    " This implementation assumes simplified calculations for discount factors and volatility. In a real-world scenario, more complex methods and market data would be used. Adjustments might be necessary to fully align with the Hull-White model parameters and market conditions."
   ]
  }
 ],
 "metadata": {
  "kernelspec": {
   "display_name": "Python 3",
   "language": "python",
   "name": "python3"
  },
  "language_info": {
   "codemirror_mode": {
    "name": "ipython",
    "version": 3
   },
   "file_extension": ".py",
   "mimetype": "text/x-python",
   "name": "python",
   "nbconvert_exporter": "python",
   "pygments_lexer": "ipython3",
   "version": "3.10.4"
  }
 },
 "nbformat": 4,
 "nbformat_minor": 2
}
