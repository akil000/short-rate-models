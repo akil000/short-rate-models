{
 "cells": [
  {
   "cell_type": "markdown",
   "metadata": {},
   "source": [
    "## IRS"
   ]
  },
  {
   "cell_type": "markdown",
   "metadata": {},
   "source": [
    "   - An IRS is a financial derivative contract in which two parties exchange cash flows of interest payments.\n",
    "   - Typically, one party pays a fixed rate (fixed leg), while the other party pays a floating rate (floating leg).\n",
    "   - The value of an IRS can be determined using the present value of the fixed and floating legs."
   ]
  },
  {
   "cell_type": "markdown",
   "metadata": {},
   "source": [
    "## Caplets and Floorlets"
   ]
  },
  {
   "cell_type": "markdown",
   "metadata": {},
   "source": [
    "   - Caplets and floorlets are components of interest rate caps and floors, respectively. A caplet is a financial derivative that pays off when the interest rate exceeds a predetermined strike rate, whereas a floorlet pays off when the interest rate falls below a predetermined strike rate.\n",
    "   - The formulas for caplets and floorlets involve several variables:\n",
    "     - $ P(t, T_{i-1}) $: Discount factor from time $ t $ to $ T_{i-1} $\n",
    "     - $ K $: Strike rate\n",
    "     - $ Z_{T_i, T_{i-1}}^t $: Forward rate observed at time $ t $ for the period from $ T_{i-1} $ to $ T_i $\n",
    "     - $ v(t) $: Volatility term\n",
    "     - $ \\Phi $: Cumulative distribution function (CDF) of the standard normal distribution\n",
    "     - $ d_1 $ and $ d_2 $ are auxiliary variables defined as:\n",
    "       \n",
    "       $d_1(K, F, v) = \\frac{\\log(F/K) + \\frac{v^2}{2}}{v}$\n",
    "       \n",
    "       \n",
    "       $d_2(K, F, v) = d_1(K, F, v) - v$"
   ]
  },
  {
   "cell_type": "markdown",
   "metadata": {},
   "source": [
    "## Implementation Steps"
   ]
  },
  {
   "cell_type": "markdown",
   "metadata": {},
   "source": [
    "   - **Step 1: Calculate the discount factor $ P(t, T_{i-1})$ using the Hull-White model.**\n",
    "   - **Step 2: Calculate the forward rate $Z_{T_i, T_{i-1}}^t $.**\n",
    "   - **Step 3: Determine the volatility term $v(t) $.**\n",
    "   - **Step 4: Compute the  $d_1$  and $d_2 $ variables.**\n",
    "   - **Step 5: Compute the put and call price.**\n",
    "   - **Step 6: Calculate the caplet and floorlet prices using the provided formulas.**"
   ]
  },
  {
   "cell_type": "code",
   "execution_count": 207,
   "metadata": {},
   "outputs": [],
   "source": [
    "from scipy.stats import norm\n",
    "import numpy as np"
   ]
  },
  {
   "cell_type": "code",
   "execution_count": 208,
   "metadata": {},
   "outputs": [],
   "source": [
    "class factors():\n",
    "    def __init__(self, t, K, alpha, sigma, theta, r):\n",
    "        self.t = t\n",
    "        self.K = K \n",
    "        self.alpha = alpha\n",
    "        self.sigma= sigma\n",
    "        self.theta = theta\n",
    "        self.r = r\n",
    "\n",
    "    def B(self, s, T):\n",
    "        B = (1 - np.exp(-self.alpha * (T - s))) / self.alpha\n",
    "        return B\n",
    "    \n",
    "    def A(self,T):\n",
    "        A = np.exp((self.B(self.t, T) - (T - self.t)) * (self.theta - 0.5 * self.sigma ** 2 / self.alpha ** 2) - (self.sigma ** 2 * self.B(self.t, T) ** 2) / (4 * self.alpha))\n",
    "        return A\n",
    "    \n",
    "    def discount_factor(self, T):\n",
    "        B = self.B(self.t, T)\n",
    "        A = self.A(T)\n",
    "        return A * np.exp(-B * self.r) \n",
    "    \n",
    "    def forward_rate(self, T1, T2):\n",
    "        P_t_T1 = self.discount_factor(T1, T2)\n",
    "        P_t_T2 = self.discount_factor()\n",
    "        return (P_t_T1 / P_t_T2 - 1) / (T2 - T1)\n",
    "    \n",
    "    def Z_T1_T2(self, T1, T2):\n",
    "        P_t_T1 = self.discount_factor(T1)\n",
    "        P_t_T2 = self.discount_factor(T2)\n",
    "        return P_t_T1 / P_t_T2   \n",
    "    \n",
    "    def d1_d2(self, F, v):\n",
    "        d1 = (np.log(F / self.K) + 0.5 * v ** 2) / v\n",
    "        d2 = d1 - v\n",
    "        return d1, d2\n",
    "    \n",
    "    def volatility(self, T1, T2, dt):\n",
    "        v = np.sqrt(np.sum([self.sigma**2 * (self.B(s, T1) - self.B(s, T2))**2 for s in np.arange(self.t, T2, dt)]))\n",
    "        return v\n",
    "    \n",
    "    def K_star(self, delta):\n",
    "        return 1 / (1 + delta * self.K)\n",
    "    "
   ]
  },
  {
   "cell_type": "markdown",
   "metadata": {},
   "source": [
    "- $PUT_{K,T_{i-1},T_{i}}(t) = P(t,T_{i-1})\\left[K\\Phi\\left(-d_2(K,Z_{T_i,T_{i-1}}^t ,v(t))\\right)-Z_{T_i,T_{i-1}}^t  \\Phi \\left(-d_1(K, Z_{T_i,T_{i-1}}^t, v(t))\\right)\\right]$\n",
    "\n",
    "- $CALL_{K,T_{i-1},T_{i}}(t) = \\frac{P(t,T_{i-1})}{K^{*}}\\left[-K\\Phi\\left(-d_2(K,Z_{T_i,T_{i-1}}^t ,v(t))\\right)+Z_{T_i,T_{i-1}}^t  \\Phi \\left(-d_1(K, Z_{T_i,T_{i-1}}^t, v(t))\\right)\\right]$\n",
    "- $CAPLET(t)  = \\frac{1}{K^*}*PUT_{K^*,T_{i-1},T_{i}}(t)$\n",
    "- $FLOORLET(t)  = \\frac{1}{K^*}*CALL_{K^*,T_{i-1},T_{i}}(t)$\n",
    "\n",
    " where $Z_{S,T}^t=\\frac{P(t,S)}{P(t,T)}$, $K^* = \\frac{1}{1+\\delta*K}$"
   ]
  },
  {
   "cell_type": "code",
   "execution_count": 209,
   "metadata": {},
   "outputs": [],
   "source": [
    "class Options(factors):\n",
    "    def __init__(self, t, K, alpha, sigma, theta, r):\n",
    "        super().__init__(t=t, K=K, alpha=alpha, sigma=sigma, theta=theta, r=r)\n",
    "    \n",
    "    def call_price(self, T1, T2, dt):\n",
    "        P_t_T2 = super().discount_factor(T2)\n",
    "        Z_T1_T2 = super().Z_T1_T2(T1, T2)\n",
    "        v = super().volatility(T1, T2, dt)\n",
    "        d1, d2 = super().d1_d2(Z_T1_T2, v)\n",
    "        call_price = P_t_T2 * (Z_T1_T2 * norm.cdf(d1) - self.K * norm.cdf(d2))\n",
    "        return call_price\n",
    "    \n",
    "    def put_price(self, T1, T2, dt):\n",
    "        P_t_T2 = super().discount_factor(T2)\n",
    "        Z_T1_T2 = super().Z_T1_T2(T1, T2)\n",
    "        v = super().volatility(T1, T2, dt)\n",
    "        d1, d2 = super().d1_d2(Z_T1_T2, v)\n",
    "        put_price = P_t_T2 * (self.K * norm.cdf(-d2) - Z_T1_T2 * norm.cdf(-d1) )\n",
    "        return put_price"
   ]
  },
  {
   "cell_type": "code",
   "execution_count": 210,
   "metadata": {},
   "outputs": [],
   "source": [
    "class caplets_and_floorlet(Options):\n",
    "    def __init__(self, t, K, alpha, sigma, theta, r):\n",
    "        super().__init__(t=t, K=K, alpha=alpha, sigma=sigma, theta=theta, r=r)\n",
    "        \n",
    "    def caplet(self, T1, T2, dt):\n",
    "        put_price = super().put_price(T1, T2, dt)\n",
    "        caplet = (1 / self.K) * put_price\n",
    "        return caplet\n",
    "    \n",
    "    def floorlet(self, T1, T2, dt):\n",
    "        call_price = super().call_price(T1, T2, dt)\n",
    "        floorlet = (1 / self.K) * call_price\n",
    "        return floorlet"
   ]
  },
  {
   "cell_type": "code",
   "execution_count": 211,
   "metadata": {},
   "outputs": [
    {
     "name": "stdout",
     "output_type": "stream",
     "text": [
      "call price:0.10076650994774164\n",
      "put price:0.30901586310688717\n"
     ]
    }
   ],
   "source": [
    "t = 0\n",
    "T1 = 0.5\n",
    "T2 = 1\n",
    "alpha = 0.10\n",
    "sigma = 0.09\n",
    "theta = 0.2\n",
    "r0 = 0.05\n",
    "dt = 0.01\n",
    "K = 1.25\n",
    "\n",
    "delta = T2 -T1\n",
    "K_star = factors(t = t, K = K, alpha = alpha, sigma = sigma, theta = theta, r = r0).K_star(delta = delta)\n",
    "Option = Options(t = t, K = K, alpha = alpha, sigma = sigma, theta = theta, r = r0)\n",
    "call_price = Option.call_price(T1=T1, T2 = T2, dt = dt)\n",
    "put_price = Option.put_price(T1=T1, T2 = T2, dt = dt)\n",
    "\n",
    "print(f\"call price:{call_price}\\nput price:{put_price}\")"
   ]
  },
  {
   "cell_type": "code",
   "execution_count": 212,
   "metadata": {},
   "outputs": [
    {
     "name": "stdout",
     "output_type": "stream",
     "text": [
      "caplet:0.031359355195693855\n",
      "floorlet:0.668038644410333\n"
     ]
    }
   ],
   "source": [
    "delta = T2 -T1\n",
    "caplets_and_floorlet = caplets_and_floorlet(t = t, K = K_star, alpha=alpha, sigma = sigma, theta = theta, r = r0)\n",
    "caplet = caplets_and_floorlet.caplet(T1 = T1, T2 = T2, dt = dt)\n",
    "floorlet = caplets_and_floorlet.floorlet(T1 = T1, T2 = T2, dt = dt)\n",
    "\n",
    "print(f\"caplet:{caplet}\\nfloorlet:{floorlet}\")"
   ]
  },
  {
   "cell_type": "markdown",
   "metadata": {},
   "source": [
    "Explanation\n",
    " 1. **Discount Factor**: Calculated using a simplified version of the Hull-White model.\n",
    " 2. **Forward Rate**: Derived from the ratio of discount factors.\n",
    " 3. **Volatility**: Simplified to be constant for demonstration purposes.\n",
    " 4. **d1 and d2**: Computed using the given formulas.\n",
    " 5. **K^{*}**: Defined as $\\frac1{1+ \\delta K}$\n",
    " 6. **Caplet and Floorlet Prices**: Derived using the provided formulas and the normal CDF.\n",
    "\n",
    " This implementation assumes simplified calculations for discount factors and volatility. In a real-world scenario, more complex methods and market data would be used. Adjustments might be necessary to fully align with the Hull-White model parameters and market conditions."
   ]
  }
 ],
 "metadata": {
  "kernelspec": {
   "display_name": "Python 3",
   "language": "python",
   "name": "python3"
  },
  "language_info": {
   "codemirror_mode": {
    "name": "ipython",
    "version": 3
   },
   "file_extension": ".py",
   "mimetype": "text/x-python",
   "name": "python",
   "nbconvert_exporter": "python",
   "pygments_lexer": "ipython3",
   "version": "3.10.4"
  }
 },
 "nbformat": 4,
 "nbformat_minor": 2
}
